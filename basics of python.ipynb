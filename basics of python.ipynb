{
  "metadata": {
    "kernelspec": {
      "name": "python",
      "display_name": "Python (Pyodide)",
      "language": "python"
    },
    "language_info": {
      "codemirror_mode": {
        "name": "python",
        "version": 3
      },
      "file_extension": ".py",
      "mimetype": "text/x-python",
      "name": "python",
      "nbconvert_exporter": "python",
      "pygments_lexer": "ipython3",
      "version": "3.8"
    }
  },
  "nbformat_minor": 5,
  "nbformat": 4,
  "cells": [
    {
      "id": "458e9dff-656a-44f3-adb3-1411f7035083",
      "cell_type": "markdown",
      "source": "# Numpy: Package for multidimensional array",
      "metadata": {}
    },
    {
      "id": "34adc81e-4fe5-44fe-b7dd-9aaccaa40f55",
      "cell_type": "markdown",
      "source": "### list",
      "metadata": {}
    },
    {
      "id": "8c41912a-44b2-43cb-ab8f-500960ca10fc",
      "cell_type": "code",
      "source": "import numpy as np  ",
      "metadata": {
        "trusted": true
      },
      "outputs": [],
      "execution_count": 1
    },
    {
      "id": "ee5acce2-407d-460d-aabe-e1d4a5ad5e21",
      "cell_type": "code",
      "source": "simple_list=[6,7,8]\nnp.array(simple_list)",
      "metadata": {
        "trusted": true
      },
      "outputs": [
        {
          "execution_count": 25,
          "output_type": "execute_result",
          "data": {
            "text/plain": "array([6, 7, 8])"
          },
          "metadata": {}
        }
      ],
      "execution_count": 25
    },
    {
      "id": "be5cfdc0-ad9c-4efa-8b73-dfa0cfa3a49f",
      "cell_type": "code",
      "source": "arr=np.array([1,2,3])\narr",
      "metadata": {
        "trusted": true
      },
      "outputs": [
        {
          "execution_count": 49,
          "output_type": "execute_result",
          "data": {
            "text/plain": "array([1, 2, 3])"
          },
          "metadata": {}
        }
      ],
      "execution_count": 49
    },
    {
      "id": "7e5c1cd5-7f0a-4bc2-8b4d-22f3e1cd9b00",
      "cell_type": "code",
      "source": "np.arange(5,20)",
      "metadata": {
        "trusted": true
      },
      "outputs": [
        {
          "execution_count": 4,
          "output_type": "execute_result",
          "data": {
            "text/plain": "array([ 5,  6,  7,  8,  9, 10, 11, 12, 13, 14, 15, 16, 17, 18, 19])"
          },
          "metadata": {}
        }
      ],
      "execution_count": 4
    },
    {
      "id": "9735e930-ff09-4846-b8cc-4942fbd7891b",
      "cell_type": "code",
      "source": "np.arange(1,20,2)",
      "metadata": {
        "trusted": true
      },
      "outputs": [
        {
          "execution_count": 5,
          "output_type": "execute_result",
          "data": {
            "text/plain": "array([ 1,  3,  5,  7,  9, 11, 13, 15, 17, 19])"
          },
          "metadata": {}
        }
      ],
      "execution_count": 5
    },
    {
      "id": "0504958c-41fd-43c0-adfe-26e34385de6e",
      "cell_type": "code",
      "source": "np.arange(5)",
      "metadata": {
        "trusted": true
      },
      "outputs": [
        {
          "execution_count": 6,
          "output_type": "execute_result",
          "data": {
            "text/plain": "array([0, 1, 2, 3, 4])"
          },
          "metadata": {}
        }
      ],
      "execution_count": 6
    },
    {
      "id": "dd2ba7f2-12f1-45d5-ba3f-1d167ad75491",
      "cell_type": "code",
      "source": "np.arange(100)",
      "metadata": {
        "trusted": true
      },
      "outputs": [
        {
          "execution_count": 23,
          "output_type": "execute_result",
          "data": {
            "text/plain": "array([ 0,  1,  2,  3,  4,  5,  6,  7,  8,  9, 10, 11, 12, 13, 14, 15, 16,\n       17, 18, 19, 20, 21, 22, 23, 24, 25, 26, 27, 28, 29, 30, 31, 32, 33,\n       34, 35, 36, 37, 38, 39, 40, 41, 42, 43, 44, 45, 46, 47, 48, 49, 50,\n       51, 52, 53, 54, 55, 56, 57, 58, 59, 60, 61, 62, 63, 64, 65, 66, 67,\n       68, 69, 70, 71, 72, 73, 74, 75, 76, 77, 78, 79, 80, 81, 82, 83, 84,\n       85, 86, 87, 88, 89, 90, 91, 92, 93, 94, 95, 96, 97, 98, 99])"
          },
          "metadata": {}
        }
      ],
      "execution_count": 23
    },
    {
      "id": "f1ae6123-31b4-489f-a656-f7eb18160e71",
      "cell_type": "code",
      "source": "np.arange(500)",
      "metadata": {
        "trusted": true
      },
      "outputs": [
        {
          "execution_count": 24,
          "output_type": "execute_result",
          "data": {
            "text/plain": "array([  0,   1,   2,   3,   4,   5,   6,   7,   8,   9,  10,  11,  12,\n        13,  14,  15,  16,  17,  18,  19,  20,  21,  22,  23,  24,  25,\n        26,  27,  28,  29,  30,  31,  32,  33,  34,  35,  36,  37,  38,\n        39,  40,  41,  42,  43,  44,  45,  46,  47,  48,  49,  50,  51,\n        52,  53,  54,  55,  56,  57,  58,  59,  60,  61,  62,  63,  64,\n        65,  66,  67,  68,  69,  70,  71,  72,  73,  74,  75,  76,  77,\n        78,  79,  80,  81,  82,  83,  84,  85,  86,  87,  88,  89,  90,\n        91,  92,  93,  94,  95,  96,  97,  98,  99, 100, 101, 102, 103,\n       104, 105, 106, 107, 108, 109, 110, 111, 112, 113, 114, 115, 116,\n       117, 118, 119, 120, 121, 122, 123, 124, 125, 126, 127, 128, 129,\n       130, 131, 132, 133, 134, 135, 136, 137, 138, 139, 140, 141, 142,\n       143, 144, 145, 146, 147, 148, 149, 150, 151, 152, 153, 154, 155,\n       156, 157, 158, 159, 160, 161, 162, 163, 164, 165, 166, 167, 168,\n       169, 170, 171, 172, 173, 174, 175, 176, 177, 178, 179, 180, 181,\n       182, 183, 184, 185, 186, 187, 188, 189, 190, 191, 192, 193, 194,\n       195, 196, 197, 198, 199, 200, 201, 202, 203, 204, 205, 206, 207,\n       208, 209, 210, 211, 212, 213, 214, 215, 216, 217, 218, 219, 220,\n       221, 222, 223, 224, 225, 226, 227, 228, 229, 230, 231, 232, 233,\n       234, 235, 236, 237, 238, 239, 240, 241, 242, 243, 244, 245, 246,\n       247, 248, 249, 250, 251, 252, 253, 254, 255, 256, 257, 258, 259,\n       260, 261, 262, 263, 264, 265, 266, 267, 268, 269, 270, 271, 272,\n       273, 274, 275, 276, 277, 278, 279, 280, 281, 282, 283, 284, 285,\n       286, 287, 288, 289, 290, 291, 292, 293, 294, 295, 296, 297, 298,\n       299, 300, 301, 302, 303, 304, 305, 306, 307, 308, 309, 310, 311,\n       312, 313, 314, 315, 316, 317, 318, 319, 320, 321, 322, 323, 324,\n       325, 326, 327, 328, 329, 330, 331, 332, 333, 334, 335, 336, 337,\n       338, 339, 340, 341, 342, 343, 344, 345, 346, 347, 348, 349, 350,\n       351, 352, 353, 354, 355, 356, 357, 358, 359, 360, 361, 362, 363,\n       364, 365, 366, 367, 368, 369, 370, 371, 372, 373, 374, 375, 376,\n       377, 378, 379, 380, 381, 382, 383, 384, 385, 386, 387, 388, 389,\n       390, 391, 392, 393, 394, 395, 396, 397, 398, 399, 400, 401, 402,\n       403, 404, 405, 406, 407, 408, 409, 410, 411, 412, 413, 414, 415,\n       416, 417, 418, 419, 420, 421, 422, 423, 424, 425, 426, 427, 428,\n       429, 430, 431, 432, 433, 434, 435, 436, 437, 438, 439, 440, 441,\n       442, 443, 444, 445, 446, 447, 448, 449, 450, 451, 452, 453, 454,\n       455, 456, 457, 458, 459, 460, 461, 462, 463, 464, 465, 466, 467,\n       468, 469, 470, 471, 472, 473, 474, 475, 476, 477, 478, 479, 480,\n       481, 482, 483, 484, 485, 486, 487, 488, 489, 490, 491, 492, 493,\n       494, 495, 496, 497, 498, 499])"
          },
          "metadata": {}
        }
      ],
      "execution_count": 24
    },
    {
      "id": "08643542-dc23-4cd4-868a-c3feb8dd8a3a",
      "cell_type": "code",
      "source": "np.zeros (10)",
      "metadata": {
        "trusted": true
      },
      "outputs": [
        {
          "execution_count": 50,
          "output_type": "execute_result",
          "data": {
            "text/plain": "array([0., 0., 0., 0., 0., 0., 0., 0., 0., 0.])"
          },
          "metadata": {}
        }
      ],
      "execution_count": 50
    },
    {
      "id": "6814344c-21f0-4e7b-a8a3-c217497ac7dd",
      "cell_type": "code",
      "source": "np.ones(20)",
      "metadata": {
        "trusted": true
      },
      "outputs": [
        {
          "execution_count": 51,
          "output_type": "execute_result",
          "data": {
            "text/plain": "array([1., 1., 1., 1., 1., 1., 1., 1., 1., 1., 1., 1., 1., 1., 1., 1., 1.,\n       1., 1., 1.])"
          },
          "metadata": {}
        }
      ],
      "execution_count": 51
    },
    {
      "id": "84c03035-14e2-4954-9b77-ac72e5faa4e2",
      "cell_type": "code",
      "source": "np.ones(20,int)",
      "metadata": {
        "trusted": true
      },
      "outputs": [
        {
          "execution_count": 58,
          "output_type": "execute_result",
          "data": {
            "text/plain": "array([1, 1, 1, 1, 1, 1, 1, 1, 1, 1, 1, 1, 1, 1, 1, 1, 1, 1, 1, 1])"
          },
          "metadata": {}
        }
      ],
      "execution_count": 58
    },
    {
      "id": "cb6e2d70-7904-4a93-8bf7-74309eb61f70",
      "cell_type": "code",
      "source": "np.zeros(20,int)",
      "metadata": {
        "trusted": true
      },
      "outputs": [
        {
          "execution_count": 61,
          "output_type": "execute_result",
          "data": {
            "text/plain": "array([0, 0, 0, 0, 0, 0, 0, 0, 0, 0, 0, 0, 0, 0, 0, 0, 0, 0, 0, 0])"
          },
          "metadata": {}
        }
      ],
      "execution_count": 61
    },
    {
      "id": "c1cbb932-a76c-49cc-817a-5d161938eb29",
      "cell_type": "code",
      "source": "np.linspace(0,20,8)",
      "metadata": {
        "trusted": true
      },
      "outputs": [
        {
          "execution_count": 63,
          "output_type": "execute_result",
          "data": {
            "text/plain": "array([ 0.        ,  2.85714286,  5.71428571,  8.57142857, 11.42857143,\n       14.28571429, 17.14285714, 20.        ])"
          },
          "metadata": {}
        }
      ],
      "execution_count": 63
    },
    {
      "id": "4c7d1cae-1608-46bd-8698-c51b0b4898cc",
      "cell_type": "code",
      "source": "np.linspace(0,100,8)",
      "metadata": {
        "trusted": true
      },
      "outputs": [
        {
          "execution_count": 66,
          "output_type": "execute_result",
          "data": {
            "text/plain": "array([  0.        ,  14.28571429,  28.57142857,  42.85714286,\n        57.14285714,  71.42857143,  85.71428571, 100.        ])"
          },
          "metadata": {}
        }
      ],
      "execution_count": 66
    },
    {
      "id": "5346f346-d2c4-4716-aec4-361a59b80392",
      "cell_type": "code",
      "source": "np.eye(10,dtype=int)",
      "metadata": {
        "trusted": true
      },
      "outputs": [
        {
          "execution_count": 67,
          "output_type": "execute_result",
          "data": {
            "text/plain": "array([[1, 0, 0, 0, 0, 0, 0, 0, 0, 0],\n       [0, 1, 0, 0, 0, 0, 0, 0, 0, 0],\n       [0, 0, 1, 0, 0, 0, 0, 0, 0, 0],\n       [0, 0, 0, 1, 0, 0, 0, 0, 0, 0],\n       [0, 0, 0, 0, 1, 0, 0, 0, 0, 0],\n       [0, 0, 0, 0, 0, 1, 0, 0, 0, 0],\n       [0, 0, 0, 0, 0, 0, 1, 0, 0, 0],\n       [0, 0, 0, 0, 0, 0, 0, 1, 0, 0],\n       [0, 0, 0, 0, 0, 0, 0, 0, 1, 0],\n       [0, 0, 0, 0, 0, 0, 0, 0, 0, 1]])"
          },
          "metadata": {}
        }
      ],
      "execution_count": 67
    },
    {
      "id": "ee62fbed-f7fc-4dd9-8672-0d9b565e9575",
      "cell_type": "code",
      "source": "np.random.rand(3,5)",
      "metadata": {
        "trusted": true
      },
      "outputs": [
        {
          "execution_count": 69,
          "output_type": "execute_result",
          "data": {
            "text/plain": "array([[0.97808918, 0.11459416, 0.12571322, 0.0240669 , 0.99957784],\n       [0.30451313, 0.78873433, 0.18771438, 0.40892494, 0.17217303],\n       [0.64486087, 0.69690474, 0.88035068, 0.06806964, 0.4513453 ]])"
          },
          "metadata": {}
        }
      ],
      "execution_count": 69
    },
    {
      "id": "3d7f5e05-e092-416a-98fe-b5d935695a07",
      "cell_type": "code",
      "source": "np.ones(10,int)",
      "metadata": {
        "trusted": true
      },
      "outputs": [
        {
          "execution_count": 72,
          "output_type": "execute_result",
          "data": {
            "text/plain": "array([1, 1, 1, 1, 1, 1, 1, 1, 1, 1])"
          },
          "metadata": {}
        }
      ],
      "execution_count": 72
    },
    {
      "id": "14c74f9e-2d6b-4772-9cb3-e81691040452",
      "cell_type": "code",
      "source": "np.ones((2,3))",
      "metadata": {
        "trusted": true
      },
      "outputs": [
        {
          "execution_count": 73,
          "output_type": "execute_result",
          "data": {
            "text/plain": "array([[1., 1., 1.],\n       [1., 1., 1.]])"
          },
          "metadata": {}
        }
      ],
      "execution_count": 73
    },
    {
      "id": "c8e89464-f5d6-4d65-b1cd-18ad4a280b2c",
      "cell_type": "code",
      "source": "np.zeros((5,9))",
      "metadata": {
        "trusted": true
      },
      "outputs": [
        {
          "execution_count": 74,
          "output_type": "execute_result",
          "data": {
            "text/plain": "array([[0., 0., 0., 0., 0., 0., 0., 0., 0.],\n       [0., 0., 0., 0., 0., 0., 0., 0., 0.],\n       [0., 0., 0., 0., 0., 0., 0., 0., 0.],\n       [0., 0., 0., 0., 0., 0., 0., 0., 0.],\n       [0., 0., 0., 0., 0., 0., 0., 0., 0.]])"
          },
          "metadata": {}
        }
      ],
      "execution_count": 74
    },
    {
      "id": "49ca6054-195c-437d-87dd-3024ae742740",
      "cell_type": "code",
      "source": "np.linspace(3,500,70)",
      "metadata": {
        "trusted": true
      },
      "outputs": [
        {
          "execution_count": 76,
          "output_type": "execute_result",
          "data": {
            "text/plain": "array([  3.        ,  10.20289855,  17.4057971 ,  24.60869565,\n        31.8115942 ,  39.01449275,  46.2173913 ,  53.42028986,\n        60.62318841,  67.82608696,  75.02898551,  82.23188406,\n        89.43478261,  96.63768116, 103.84057971, 111.04347826,\n       118.24637681, 125.44927536, 132.65217391, 139.85507246,\n       147.05797101, 154.26086957, 161.46376812, 168.66666667,\n       175.86956522, 183.07246377, 190.27536232, 197.47826087,\n       204.68115942, 211.88405797, 219.08695652, 226.28985507,\n       233.49275362, 240.69565217, 247.89855072, 255.10144928,\n       262.30434783, 269.50724638, 276.71014493, 283.91304348,\n       291.11594203, 298.31884058, 305.52173913, 312.72463768,\n       319.92753623, 327.13043478, 334.33333333, 341.53623188,\n       348.73913043, 355.94202899, 363.14492754, 370.34782609,\n       377.55072464, 384.75362319, 391.95652174, 399.15942029,\n       406.36231884, 413.56521739, 420.76811594, 427.97101449,\n       435.17391304, 442.37681159, 449.57971014, 456.7826087 ,\n       463.98550725, 471.1884058 , 478.39130435, 485.5942029 ,\n       492.79710145, 500.        ])"
          },
          "metadata": {}
        }
      ],
      "execution_count": 76
    },
    {
      "id": "75201e5d-86ca-456d-9072-8aaec07fdac4",
      "cell_type": "code",
      "source": "np.random.randint(2,100)",
      "metadata": {
        "trusted": true
      },
      "outputs": [
        {
          "execution_count": 77,
          "output_type": "execute_result",
          "data": {
            "text/plain": "45"
          },
          "metadata": {}
        }
      ],
      "execution_count": 77
    },
    {
      "id": "8855b046-2002-41ed-9cad-e920098d4c19",
      "cell_type": "code",
      "source": "np.random.randint(2,100)",
      "metadata": {
        "trusted": true
      },
      "outputs": [
        {
          "execution_count": 78,
          "output_type": "execute_result",
          "data": {
            "text/plain": "31"
          },
          "metadata": {}
        }
      ],
      "execution_count": 78
    },
    {
      "id": "e395ea28-260b-4864-bb52-3709ad347a25",
      "cell_type": "code",
      "source": "np.random.randint(2,100)",
      "metadata": {
        "trusted": true
      },
      "outputs": [
        {
          "execution_count": 79,
          "output_type": "execute_result",
          "data": {
            "text/plain": "49"
          },
          "metadata": {}
        }
      ],
      "execution_count": 79
    },
    {
      "id": "cc6d4583-c908-4ad6-a9f6-4861f9cb4b23",
      "cell_type": "code",
      "source": "np.random.randint(4,400) ##random output",
      "metadata": {
        "trusted": true
      },
      "outputs": [
        {
          "execution_count": 83,
          "output_type": "execute_result",
          "data": {
            "text/plain": "230"
          },
          "metadata": {}
        }
      ],
      "execution_count": 83
    },
    {
      "id": "e593ca1b-3cf7-45d0-8d15-b18c96d42bf8",
      "cell_type": "code",
      "source": "np.random.randint(4,400)",
      "metadata": {
        "trusted": true
      },
      "outputs": [
        {
          "execution_count": 84,
          "output_type": "execute_result",
          "data": {
            "text/plain": "341"
          },
          "metadata": {}
        }
      ],
      "execution_count": 84
    },
    {
      "id": "a2db2d20-fc2c-41bd-9e93-604d8df5a5f7",
      "cell_type": "code",
      "source": "rand_array=np.random.randint(0,10,50)\nrand_array",
      "metadata": {
        "trusted": true
      },
      "outputs": [
        {
          "execution_count": 86,
          "output_type": "execute_result",
          "data": {
            "text/plain": "array([8, 8, 4, 6, 7, 9, 1, 5, 3, 1, 0, 1, 6, 4, 3, 2, 3, 7, 9, 9, 1, 9,\n       6, 4, 8, 5, 2, 4, 5, 7, 7, 7, 6, 1, 0, 6, 7, 1, 9, 6, 4, 4, 8, 4,\n       5, 6, 3, 2, 6, 0])"
          },
          "metadata": {}
        }
      ],
      "execution_count": 86
    },
    {
      "id": "1881e580-2c40-4606-9ffe-afbb88c4fe15",
      "cell_type": "code",
      "source": "",
      "metadata": {
        "trusted": true
      },
      "outputs": [
        {
          "ename": "<class 'NameError'>",
          "evalue": "name 'randint' is not defined",
          "traceback": [
            "\u001b[0;31m---------------------------------------------------------------------------\u001b[0m",
            "\u001b[0;31mNameError\u001b[0m                                 Traceback (most recent call last)",
            "Cell \u001b[0;32mIn[97], line 1\u001b[0m\n\u001b[0;32m----> 1\u001b[0m \u001b[43mrandint\u001b[49m\u001b[38;5;241m.\u001b[39mreshape(\u001b[38;5;241m5\u001b[39m,\u001b[38;5;241m6\u001b[39m)\n",
            "\u001b[0;31mNameError\u001b[0m: name 'randint' is not defined"
          ],
          "output_type": "error"
        }
      ],
      "execution_count": 97
    },
    {
      "id": "6d98b709-40e2-424a-ad74-7776f365db3c",
      "cell_type": "code",
      "source": "a=np.eye(5) \na",
      "metadata": {
        "trusted": true
      },
      "outputs": [
        {
          "execution_count": 101,
          "output_type": "execute_result",
          "data": {
            "text/plain": "array([[1., 0., 0., 0., 0.],\n       [0., 1., 0., 0., 0.],\n       [0., 0., 1., 0., 0.],\n       [0., 0., 0., 1., 0.],\n       [0., 0., 0., 0., 1.]])"
          },
          "metadata": {}
        }
      ],
      "execution_count": 101
    },
    {
      "id": "d903f901-85ec-44e0-a0ce-79ff235ae179",
      "cell_type": "code",
      "source": "a.T",
      "metadata": {
        "trusted": true
      },
      "outputs": [
        {
          "execution_count": 103,
          "output_type": "execute_result",
          "data": {
            "text/plain": "array([[1., 0., 0., 0., 0.],\n       [0., 1., 0., 0., 0.],\n       [0., 0., 1., 0., 0.],\n       [0., 0., 0., 1., 0.],\n       [0., 0., 0., 0., 1.]])"
          },
          "metadata": {}
        }
      ],
      "execution_count": 103
    },
    {
      "id": "af736f27-1376-422a-8147-848910609a7f",
      "cell_type": "code",
      "source": "a=np.random.rand(2,3)\na",
      "metadata": {
        "trusted": true
      },
      "outputs": [
        {
          "execution_count": 105,
          "output_type": "execute_result",
          "data": {
            "text/plain": "array([[0.31379701, 0.10917675, 0.99211968],\n       [0.01413096, 0.94899342, 0.82470405]])"
          },
          "metadata": {}
        }
      ],
      "execution_count": 105
    },
    {
      "id": "61356f55-1139-40ef-a3a0-1813149a8dfe",
      "cell_type": "code",
      "source": "a.T",
      "metadata": {
        "trusted": true
      },
      "outputs": [
        {
          "execution_count": 106,
          "output_type": "execute_result",
          "data": {
            "text/plain": "array([[0.31379701, 0.01413096],\n       [0.10917675, 0.94899342],\n       [0.99211968, 0.82470405]])"
          },
          "metadata": {}
        }
      ],
      "execution_count": 106
    },
    {
      "id": "11e4bac5-5863-4f78-8fe0-471476b63888",
      "cell_type": "code",
      "source": "sample_array=np.arange(50)\nsample_array",
      "metadata": {
        "trusted": true
      },
      "outputs": [
        {
          "execution_count": 110,
          "output_type": "execute_result",
          "data": {
            "text/plain": "array([ 0,  1,  2,  3,  4,  5,  6,  7,  8,  9, 10, 11, 12, 13, 14, 15, 16,\n       17, 18, 19, 20, 21, 22, 23, 24, 25, 26, 27, 28, 29, 30, 31, 32, 33,\n       34, 35, 36, 37, 38, 39, 40, 41, 42, 43, 44, 45, 46, 47, 48, 49])"
          },
          "metadata": {}
        }
      ],
      "execution_count": 110
    },
    {
      "id": "52a7fefd-4333-4f05-a765-bba507e8b437",
      "cell_type": "code",
      "source": "np.random.randint(20,56,100)",
      "metadata": {
        "trusted": true
      },
      "outputs": [
        {
          "execution_count": 107,
          "output_type": "execute_result",
          "data": {
            "text/plain": "array([48, 27, 30, 39, 39, 38, 30, 21, 50, 47, 49, 31, 55, 22, 55, 24, 50,\n       21, 34, 27, 48, 22, 38, 47, 34, 27, 37, 44, 44, 29, 46, 31, 50, 26,\n       47, 50, 51, 52, 41, 47, 27, 36, 42, 49, 23, 40, 49, 31, 45, 49, 32,\n       20, 22, 29, 29, 21, 49, 38, 30, 50, 49, 26, 31, 33, 50, 26, 41, 47,\n       52, 48, 46, 44, 38, 41, 23, 54, 39, 29, 28, 45, 26, 32, 29, 46, 34,\n       40, 24, 47, 33, 33, 43, 49, 47, 41, 51, 24, 53, 21, 39, 41])"
          },
          "metadata": {}
        }
      ],
      "execution_count": 107
    },
    {
      "id": "01fada3d-65fa-4145-afcf-2d202c3f468c",
      "cell_type": "code",
      "source": "rand_array.argmax()",
      "metadata": {
        "trusted": true
      },
      "outputs": [
        {
          "execution_count": 113,
          "output_type": "execute_result",
          "data": {
            "text/plain": "5"
          },
          "metadata": {}
        }
      ],
      "execution_count": 113
    },
    {
      "id": "9b18a822-6fb5-4442-81aa-fdb541f96b20",
      "cell_type": "code",
      "source": "sample_array=np.arange(10,21)\nsample_array",
      "metadata": {
        "trusted": true
      },
      "outputs": [
        {
          "execution_count": 115,
          "output_type": "execute_result",
          "data": {
            "text/plain": "array([10, 11, 12, 13, 14, 15, 16, 17, 18, 19, 20])"
          },
          "metadata": {}
        }
      ],
      "execution_count": 115
    },
    {
      "id": "d5ca155f-7ec9-4df7-9335-887d75f6e875",
      "cell_type": "code",
      "source": "sample_array[1:4]",
      "metadata": {
        "trusted": true
      },
      "outputs": [
        {
          "execution_count": 116,
          "output_type": "execute_result",
          "data": {
            "text/plain": "array([11, 12, 13])"
          },
          "metadata": {}
        }
      ],
      "execution_count": 116
    },
    {
      "id": "9e057fb1-e922-474b-b35c-13e4c0637867",
      "cell_type": "code",
      "source": "sample_array[1:4]=100\nsample_array",
      "metadata": {
        "trusted": true
      },
      "outputs": [
        {
          "execution_count": 119,
          "output_type": "execute_result",
          "data": {
            "text/plain": "array([ 10, 100, 100, 100,  14,  15,  16,  17,  18,  19,  20])"
          },
          "metadata": {}
        }
      ],
      "execution_count": 119
    },
    {
      "id": "22f92a85-79b5-49cc-8b10-bcf537ea3f7a",
      "cell_type": "code",
      "source": "sample_array[8]",
      "metadata": {
        "trusted": true
      },
      "outputs": [
        {
          "execution_count": 121,
          "output_type": "execute_result",
          "data": {
            "text/plain": "18"
          },
          "metadata": {}
        }
      ],
      "execution_count": 121
    },
    {
      "id": "cc4e0566-9f0c-4ba6-befa-78c226d4bbea",
      "cell_type": "markdown",
      "source": "### Tuples",
      "metadata": {}
    },
    {
      "id": "474314e0-2c94-4546-97d7-ad7c267dd99e",
      "cell_type": "code",
      "source": "sample_tuple=(1,2,3,4,5,6,7)\nsample_tuple",
      "metadata": {
        "trusted": true
      },
      "outputs": [
        {
          "execution_count": 70,
          "output_type": "execute_result",
          "data": {
            "text/plain": "(1, 2, 3, 4, 5, 6, 7)"
          },
          "metadata": {}
        }
      ],
      "execution_count": 70
    },
    {
      "id": "e64a0f77-8ac5-4b42-ba0c-159afb7b62ce",
      "cell_type": "code",
      "source": "sample_tuple[0]",
      "metadata": {
        "trusted": true
      },
      "outputs": [
        {
          "execution_count": 71,
          "output_type": "execute_result",
          "data": {
            "text/plain": "1"
          },
          "metadata": {}
        }
      ],
      "execution_count": 71
    },
    {
      "id": "3d383580-e14f-47a4-8d34-eb2430ed0058",
      "cell_type": "code",
      "source": "sample_tuple[-5]",
      "metadata": {
        "trusted": true
      },
      "outputs": [
        {
          "execution_count": 15,
          "output_type": "execute_result",
          "data": {
            "text/plain": "3"
          },
          "metadata": {}
        }
      ],
      "execution_count": 15
    },
    {
      "id": "4c33aed8-b974-45c5-b983-3abe09d7d515",
      "cell_type": "code",
      "source": "sample_tuple[-1]",
      "metadata": {
        "trusted": true
      },
      "outputs": [
        {
          "execution_count": 18,
          "output_type": "execute_result",
          "data": {
            "text/plain": "7"
          },
          "metadata": {}
        }
      ],
      "execution_count": 18
    },
    {
      "id": "1abdefc4-f204-4177-b1c7-c3ddd6df79ef",
      "cell_type": "code",
      "source": "sample_tuple[0]=100",
      "metadata": {
        "trusted": true
      },
      "outputs": [
        {
          "ename": "<class 'TypeError'>",
          "evalue": "'tuple' object does not support item assignment",
          "traceback": [
            "\u001b[0;31m---------------------------------------------------------------------------\u001b[0m",
            "\u001b[0;31mTypeError\u001b[0m                                 Traceback (most recent call last)",
            "Cell \u001b[0;32mIn[19], line 1\u001b[0m\n\u001b[0;32m----> 1\u001b[0m \u001b[43msample_tuple\u001b[49m\u001b[43m[\u001b[49m\u001b[38;5;241;43m0\u001b[39;49m\u001b[43m]\u001b[49m\u001b[38;5;241m=\u001b[39m\u001b[38;5;241m100\u001b[39m\n",
            "\u001b[0;31mTypeError\u001b[0m: 'tuple' object does not support item assignment"
          ],
          "output_type": "error"
        }
      ],
      "execution_count": 19
    },
    {
      "id": "fd667341-9cf3-44c6-912a-7610570731bb",
      "cell_type": "markdown",
      "source": "### dictionary",
      "metadata": {}
    },
    {
      "id": "47069b55-e9e5-489a-acdf-165f00868714",
      "cell_type": "code",
      "source": "dict_1={'name':\"arun\",\"hobbies\":[\"painting\",\"singing\"],5:2.3}",
      "metadata": {
        "trusted": true
      },
      "outputs": [],
      "execution_count": 27
    },
    {
      "id": "9c68676d-141c-4d38-b208-4fb966bb2664",
      "cell_type": "code",
      "source": "type(dict_1)",
      "metadata": {
        "trusted": true
      },
      "outputs": [
        {
          "execution_count": 28,
          "output_type": "execute_result",
          "data": {
            "text/plain": "dict"
          },
          "metadata": {}
        }
      ],
      "execution_count": 28
    },
    {
      "id": "a8105bbb-e7d6-4ee3-a88a-9e8009bd5fa7",
      "cell_type": "code",
      "source": "dict_1",
      "metadata": {
        "trusted": true
      },
      "outputs": [
        {
          "execution_count": 29,
          "output_type": "execute_result",
          "data": {
            "text/plain": "{'name': 'arun', 'hobbies': ['painting', 'singing'], 5: 2.3}"
          },
          "metadata": {}
        }
      ],
      "execution_count": 29
    },
    {
      "id": "1397fdaa-809c-41cd-9138-a1f191ffb314",
      "cell_type": "code",
      "source": "dict_1.keys()",
      "metadata": {
        "trusted": true
      },
      "outputs": [
        {
          "execution_count": 31,
          "output_type": "execute_result",
          "data": {
            "text/plain": "dict_keys(['name', 'hobbies', 5])"
          },
          "metadata": {}
        }
      ],
      "execution_count": 31
    },
    {
      "id": "b93826e1-c067-450d-bcb1-3b6870bd45ea",
      "cell_type": "code",
      "source": "dict_1.values()",
      "metadata": {
        "trusted": true
      },
      "outputs": [
        {
          "execution_count": 34,
          "output_type": "execute_result",
          "data": {
            "text/plain": "dict_values(['arun', ['painting', 'singing'], 2.3])"
          },
          "metadata": {}
        }
      ],
      "execution_count": 34
    },
    {
      "id": "39d4ad13-be0c-45e8-ad0a-117acc36aacf",
      "cell_type": "code",
      "source": "dict_1['hobbies']",
      "metadata": {
        "trusted": true
      },
      "outputs": [
        {
          "execution_count": 35,
          "output_type": "execute_result",
          "data": {
            "text/plain": "['painting', 'singing']"
          },
          "metadata": {}
        }
      ],
      "execution_count": 35
    },
    {
      "id": "eb9d1ea4-dd11-4dfc-b9a7-c8cd554f3ab1",
      "cell_type": "code",
      "source": "dict_1[\"name\"]=\"latha\"",
      "metadata": {
        "trusted": true
      },
      "outputs": [],
      "execution_count": 41
    },
    {
      "id": "d4795755-263f-4a66-a7d3-898d2480b683",
      "cell_type": "code",
      "source": "dict_1",
      "metadata": {
        "trusted": true
      },
      "outputs": [
        {
          "execution_count": 42,
          "output_type": "execute_result",
          "data": {
            "text/plain": "{'name': 'latha', 'hobbies': ['painting', 'singing'], 5: 2.3}"
          },
          "metadata": {}
        }
      ],
      "execution_count": 42
    },
    {
      "id": "8ed8ca4b-aece-4cc3-94e4-c02f0267986d",
      "cell_type": "markdown",
      "source": "#### key-value pair\n#### we can retrive values using index\n#### mutable \n#### {}",
      "metadata": {}
    },
    {
      "id": "84534f1f-a6c0-4c99-bd22-52d5982b95c0",
      "cell_type": "code",
      "source": "",
      "metadata": {
        "trusted": true
      },
      "outputs": [],
      "execution_count": null
    },
    {
      "id": "9b2768ce-cee2-4260-8855-dd839d2a6e32",
      "cell_type": "code",
      "source": "",
      "metadata": {
        "trusted": true
      },
      "outputs": [],
      "execution_count": null
    },
    {
      "id": "f44a6b7d-bec3-4372-a0ba-e247c0d22916",
      "cell_type": "code",
      "source": "import numpy as np",
      "metadata": {
        "trusted": true
      },
      "outputs": [],
      "execution_count": 45
    },
    {
      "id": "385a69bb-4a2a-4745-b808-cf66e5818c37",
      "cell_type": "code",
      "source": "",
      "metadata": {
        "trusted": true
      },
      "outputs": [],
      "execution_count": null
    }
  ]
}