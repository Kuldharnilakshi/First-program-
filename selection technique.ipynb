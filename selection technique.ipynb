{
  "metadata": {
    "kernelspec": {
      "name": "python",
      "display_name": "Python (Pyodide)",
      "language": "python"
    },
    "language_info": {
      "codemirror_mode": {
        "name": "python",
        "version": 3
      },
      "file_extension": ".py",
      "mimetype": "text/x-python",
      "name": "python",
      "nbconvert_exporter": "python",
      "pygments_lexer": "ipython3",
      "version": "3.8"
    },
    "widgets": {
      "application/vnd.jupyter.widget-state+json": {
        "version_major": 2,
        "version_minor": 0,
        "state": {}
      }
    }
  },
  "nbformat_minor": 5,
  "nbformat": 4,
  "cells": [
    {
      "id": "26e7e7b8-4b14-4ed5-b62b-c9a99ceab46c",
      "cell_type": "markdown",
      "source": "### selection technique",
      "metadata": {}
    },
    {
      "id": "7c4eb2e9-19ac-477b-91cf-bf09e102b987",
      "cell_type": "code",
      "source": "import numpy as np ",
      "metadata": {
        "trusted": true
      },
      "outputs": [],
      "execution_count": 2
    },
    {
      "id": "f012dacf-a91c-4ae5-b599-8df633499e68",
      "cell_type": "code",
      "source": "sample_array=np.arange(1,20)",
      "metadata": {
        "trusted": true
      },
      "outputs": [],
      "execution_count": 3
    },
    {
      "id": "e30070f2-ab69-4246-b892-283a5d7c7c10",
      "cell_type": "code",
      "source": "sample_array",
      "metadata": {
        "trusted": true
      },
      "outputs": [
        {
          "execution_count": 4,
          "output_type": "execute_result",
          "data": {
            "text/plain": "array([ 1,  2,  3,  4,  5,  6,  7,  8,  9, 10, 11, 12, 13, 14, 15, 16, 17,\n       18, 19])"
          },
          "metadata": {}
        }
      ],
      "execution_count": 4
    },
    {
      "id": "96bdcfe4-83e2-4848-a4e8-839b0be41102",
      "cell_type": "code",
      "source": "sample_array+sample_array",
      "metadata": {
        "trusted": true
      },
      "outputs": [
        {
          "execution_count": 5,
          "output_type": "execute_result",
          "data": {
            "text/plain": "array([ 2,  4,  6,  8, 10, 12, 14, 16, 18, 20, 22, 24, 26, 28, 30, 32, 34,\n       36, 38])"
          },
          "metadata": {}
        }
      ],
      "execution_count": 5
    },
    {
      "id": "c8b1d365-0b0f-4ac8-8fe6-fba9a176a740",
      "cell_type": "code",
      "source": "np.exp(sample_array) #exponential",
      "metadata": {
        "trusted": true
      },
      "outputs": [
        {
          "execution_count": 6,
          "output_type": "execute_result",
          "data": {
            "text/plain": "array([2.71828183e+00, 7.38905610e+00, 2.00855369e+01, 5.45981500e+01,\n       1.48413159e+02, 4.03428793e+02, 1.09663316e+03, 2.98095799e+03,\n       8.10308393e+03, 2.20264658e+04, 5.98741417e+04, 1.62754791e+05,\n       4.42413392e+05, 1.20260428e+06, 3.26901737e+06, 8.88611052e+06,\n       2.41549528e+07, 6.56599691e+07, 1.78482301e+08])"
          },
          "metadata": {}
        }
      ],
      "execution_count": 6
    },
    {
      "id": "73c84493-9456-4011-bc7d-f58f61e0b89c",
      "cell_type": "code",
      "source": "np.sqrt(sample_array) ",
      "metadata": {
        "trusted": true
      },
      "outputs": [
        {
          "execution_count": 7,
          "output_type": "execute_result",
          "data": {
            "text/plain": "array([1.        , 1.41421356, 1.73205081, 2.        , 2.23606798,\n       2.44948974, 2.64575131, 2.82842712, 3.        , 3.16227766,\n       3.31662479, 3.46410162, 3.60555128, 3.74165739, 3.87298335,\n       4.        , 4.12310563, 4.24264069, 4.35889894])"
          },
          "metadata": {}
        }
      ],
      "execution_count": 7
    },
    {
      "id": "866eea2d-6ea8-41b6-b1fd-93e356cd1655",
      "cell_type": "code",
      "source": "np.log(sample_array)",
      "metadata": {
        "trusted": true
      },
      "outputs": [
        {
          "execution_count": 8,
          "output_type": "execute_result",
          "data": {
            "text/plain": "array([0.        , 0.69314718, 1.09861229, 1.38629436, 1.60943791,\n       1.79175947, 1.94591015, 2.07944154, 2.19722458, 2.30258509,\n       2.39789527, 2.48490665, 2.56494936, 2.63905733, 2.7080502 ,\n       2.77258872, 2.83321334, 2.89037176, 2.94443898])"
          },
          "metadata": {}
        }
      ],
      "execution_count": 8
    },
    {
      "id": "46fd0555-c12e-447c-ba5f-60cf64106ded",
      "cell_type": "code",
      "source": "np.max(sample_array)",
      "metadata": {
        "trusted": true
      },
      "outputs": [
        {
          "execution_count": 9,
          "output_type": "execute_result",
          "data": {
            "text/plain": "19"
          },
          "metadata": {}
        }
      ],
      "execution_count": 9
    },
    {
      "id": "7acd9a4d-107e-436d-b922-1249b87c65f2",
      "cell_type": "code",
      "source": "np.min(sample_array)",
      "metadata": {
        "trusted": true
      },
      "outputs": [
        {
          "execution_count": 10,
          "output_type": "execute_result",
          "data": {
            "text/plain": "1"
          },
          "metadata": {}
        }
      ],
      "execution_count": 10
    },
    {
      "id": "8508509d-5427-4753-8483-105af8816bac",
      "cell_type": "code",
      "source": "np.argmax(sample_array)",
      "metadata": {
        "trusted": true
      },
      "outputs": [
        {
          "execution_count": 11,
          "output_type": "execute_result",
          "data": {
            "text/plain": "18"
          },
          "metadata": {}
        }
      ],
      "execution_count": 11
    },
    {
      "id": "6fa80085-e568-4217-a2fb-fc8298bfd020",
      "cell_type": "code",
      "source": "np.square(sample_array)",
      "metadata": {
        "trusted": true
      },
      "outputs": [
        {
          "execution_count": 13,
          "output_type": "execute_result",
          "data": {
            "text/plain": "array([  1,   4,   9,  16,  25,  36,  49,  64,  81, 100, 121, 144, 169,\n       196, 225, 256, 289, 324, 361])"
          },
          "metadata": {}
        }
      ],
      "execution_count": 13
    },
    {
      "id": "58facb5b-3686-428a-a484-289b2d215f81",
      "cell_type": "code",
      "source": "np.var(sample_array)",
      "metadata": {
        "trusted": true
      },
      "outputs": [
        {
          "execution_count": 15,
          "output_type": "execute_result",
          "data": {
            "text/plain": "30.0"
          },
          "metadata": {}
        }
      ],
      "execution_count": 15
    },
    {
      "id": "9f978d1f-1456-410c-974f-658eebe14f66",
      "cell_type": "code",
      "source": "np.mean(sample_array)",
      "metadata": {
        "trusted": true
      },
      "outputs": [
        {
          "execution_count": 16,
          "output_type": "execute_result",
          "data": {
            "text/plain": "10.0"
          },
          "metadata": {}
        }
      ],
      "execution_count": 16
    },
    {
      "id": "e214baa1-acf9-420d-ac99-159534895071",
      "cell_type": "code",
      "source": "np.std(sample_array)",
      "metadata": {
        "trusted": true
      },
      "outputs": [
        {
          "execution_count": 17,
          "output_type": "execute_result",
          "data": {
            "text/plain": "5.477225575051661"
          },
          "metadata": {}
        }
      ],
      "execution_count": 17
    },
    {
      "id": "b48614bf-82db-43f4-939b-0d269448d0dd",
      "cell_type": "code",
      "source": "array=np.random.randn(3,4)\narray",
      "metadata": {
        "trusted": true
      },
      "outputs": [
        {
          "execution_count": 19,
          "output_type": "execute_result",
          "data": {
            "text/plain": "array([[ 1.32666572, -0.04564872, -0.73088124, -1.43281873],\n       [ 0.52732159, -1.09968331,  0.08410471, -0.43789942],\n       [ 1.48696502,  0.34623473, -0.64690163,  1.40613475]])"
          },
          "metadata": {}
        }
      ],
      "execution_count": 19
    },
    {
      "id": "4383229f-548a-4cc0-bb2d-6ac6446a784f",
      "cell_type": "code",
      "source": "np.round(array,decimals=2)",
      "metadata": {
        "trusted": true
      },
      "outputs": [
        {
          "execution_count": 21,
          "output_type": "execute_result",
          "data": {
            "text/plain": "array([[ 1.33, -0.05, -0.73, -1.43],\n       [ 0.53, -1.1 ,  0.08, -0.44],\n       [ 1.49,  0.35, -0.65,  1.41]])"
          },
          "metadata": {}
        }
      ],
      "execution_count": 21
    },
    {
      "id": "26425644-444c-4ffd-b839-a9f9f526838b",
      "cell_type": "code",
      "source": "sports=np.array(['golf','cricket','fball','cricket'])\nnp.unique(sports)",
      "metadata": {
        "trusted": true
      },
      "outputs": [
        {
          "execution_count": 23,
          "output_type": "execute_result",
          "data": {
            "text/plain": "array(['cricket', 'fball', 'golf'], dtype='<U7')"
          },
          "metadata": {}
        }
      ],
      "execution_count": 23
    },
    {
      "id": "21c6a5bf-5c7f-43d8-849b-55178a16c654",
      "cell_type": "code",
      "source": "sports",
      "metadata": {
        "trusted": true
      },
      "outputs": [
        {
          "execution_count": 25,
          "output_type": "execute_result",
          "data": {
            "text/plain": "array(['golf', 'cricket', 'fball', 'cricket'], dtype='<U7')"
          },
          "metadata": {}
        }
      ],
      "execution_count": 25
    },
    {
      "id": "329d5edd-ebb3-4af3-9ece-abe3f0115a78",
      "cell_type": "code",
      "source": "",
      "metadata": {
        "trusted": true
      },
      "outputs": [],
      "execution_count": null
    }
  ]
}