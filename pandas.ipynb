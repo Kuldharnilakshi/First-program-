{
  "metadata": {
    "kernelspec": {
      "name": "python",
      "display_name": "Python (Pyodide)",
      "language": "python"
    },
    "language_info": {
      "codemirror_mode": {
        "name": "python",
        "version": 3
      },
      "file_extension": ".py",
      "mimetype": "text/x-python",
      "name": "python",
      "nbconvert_exporter": "python",
      "pygments_lexer": "ipython3",
      "version": "3.8"
    },
    "widgets": {
      "application/vnd.jupyter.widget-state+json": {
        "version_major": 2,
        "version_minor": 0,
        "state": {}
      }
    }
  },
  "nbformat_minor": 5,
  "nbformat": 4,
  "cells": [
    {
      "id": "fff308f9-d060-41ad-9248-a4399fb9f099",
      "cell_type": "markdown",
      "source": "## pandas",
      "metadata": {}
    },
    {
      "id": "80f17297-3ef9-4c71-a80c-919739d40596",
      "cell_type": "code",
      "source": "import pandas as pd\nimport  numpy as np",
      "metadata": {
        "trusted": true
      },
      "outputs": [],
      "execution_count": 1
    },
    {
      "id": "67d8cfed-3a7e-42fd-844a-5b748a92cf18",
      "cell_type": "code",
      "source": "sports1=pd.Series([1,2,3,4],index=['criket','football','basketball','golf'])\nsports1",
      "metadata": {
        "trusted": true
      },
      "outputs": [
        {
          "execution_count": 8,
          "output_type": "execute_result",
          "data": {
            "text/plain": "criket        1\nfootball      2\nbasketball    3\ngolf          4\ndtype: int64"
          },
          "metadata": {}
        }
      ],
      "execution_count": 8
    },
    {
      "id": "2fd321b8-c192-4aea-b472-df58758df03a",
      "cell_type": "code",
      "source": "sports1['football']",
      "metadata": {
        "trusted": true
      },
      "outputs": [
        {
          "execution_count": 9,
          "output_type": "execute_result",
          "data": {
            "text/plain": "2"
          },
          "metadata": {}
        }
      ],
      "execution_count": 9
    },
    {
      "id": "27827d3b-a50a-4b55-bead-d508b1a7dbc4",
      "cell_type": "code",
      "source": "sports2=pd.Series([11,2,3,4],index=['cricket','football','basketball','golf'])\nsports2",
      "metadata": {
        "trusted": true
      },
      "outputs": [
        {
          "execution_count": 10,
          "output_type": "execute_result",
          "data": {
            "text/plain": "cricket       11\nfootball       2\nbasketball     3\ngolf           4\ndtype: int64"
          },
          "metadata": {}
        }
      ],
      "execution_count": 10
    },
    {
      "id": "1d61ee84-6f0c-480f-b21b-4c71454da6ea",
      "cell_type": "code",
      "source": "sports1+sports2",
      "metadata": {
        "trusted": true
      },
      "outputs": [
        {
          "execution_count": 11,
          "output_type": "execute_result",
          "data": {
            "text/plain": "basketball    6.0\ncricket       NaN\ncriket        NaN\nfootball      4.0\ngolf          8.0\ndtype: float64"
          },
          "metadata": {}
        }
      ],
      "execution_count": 11
    },
    {
      "id": "bf5f1004-9ace-4cc9-aef4-d01584f750ae",
      "cell_type": "code",
      "source": "df1=pd.DataFrame(np.random.rand(8,5),index='A B C D E F G H'.split(),columns='score1 score2 score3 score4 score5'.split())\ndf1",
      "metadata": {
        "trusted": true
      },
      "outputs": [
        {
          "execution_count": 18,
          "output_type": "execute_result",
          "data": {
            "text/plain": "     score1    score2    score3    score4    score5\nA  0.160613  0.045767  0.359725  0.894752  0.598608\nB  0.247636  0.014169  0.202549  0.473127  0.951440\nC  0.980510  0.492367  0.753955  0.983951  0.386504\nD  0.406258  0.855190  0.379893  0.789418  0.317258\nE  0.091446  0.770847  0.822870  0.884048  0.833961\nF  0.563465  0.338406  0.449771  0.957821  0.555779\nG  0.165896  0.185063  0.558307  0.996052  0.323589\nH  0.504608  0.027239  0.342787  0.129840  0.984696",
            "text/html": "<div>\n<style scoped>\n    .dataframe tbody tr th:only-of-type {\n        vertical-align: middle;\n    }\n\n    .dataframe tbody tr th {\n        vertical-align: top;\n    }\n\n    .dataframe thead th {\n        text-align: right;\n    }\n</style>\n<table border=\"1\" class=\"dataframe\">\n  <thead>\n    <tr style=\"text-align: right;\">\n      <th></th>\n      <th>score1</th>\n      <th>score2</th>\n      <th>score3</th>\n      <th>score4</th>\n      <th>score5</th>\n    </tr>\n  </thead>\n  <tbody>\n    <tr>\n      <th>A</th>\n      <td>0.160613</td>\n      <td>0.045767</td>\n      <td>0.359725</td>\n      <td>0.894752</td>\n      <td>0.598608</td>\n    </tr>\n    <tr>\n      <th>B</th>\n      <td>0.247636</td>\n      <td>0.014169</td>\n      <td>0.202549</td>\n      <td>0.473127</td>\n      <td>0.951440</td>\n    </tr>\n    <tr>\n      <th>C</th>\n      <td>0.980510</td>\n      <td>0.492367</td>\n      <td>0.753955</td>\n      <td>0.983951</td>\n      <td>0.386504</td>\n    </tr>\n    <tr>\n      <th>D</th>\n      <td>0.406258</td>\n      <td>0.855190</td>\n      <td>0.379893</td>\n      <td>0.789418</td>\n      <td>0.317258</td>\n    </tr>\n    <tr>\n      <th>E</th>\n      <td>0.091446</td>\n      <td>0.770847</td>\n      <td>0.822870</td>\n      <td>0.884048</td>\n      <td>0.833961</td>\n    </tr>\n    <tr>\n      <th>F</th>\n      <td>0.563465</td>\n      <td>0.338406</td>\n      <td>0.449771</td>\n      <td>0.957821</td>\n      <td>0.555779</td>\n    </tr>\n    <tr>\n      <th>G</th>\n      <td>0.165896</td>\n      <td>0.185063</td>\n      <td>0.558307</td>\n      <td>0.996052</td>\n      <td>0.323589</td>\n    </tr>\n    <tr>\n      <th>H</th>\n      <td>0.504608</td>\n      <td>0.027239</td>\n      <td>0.342787</td>\n      <td>0.129840</td>\n      <td>0.984696</td>\n    </tr>\n  </tbody>\n</table>\n</div>"
          },
          "metadata": {}
        }
      ],
      "execution_count": 18
    },
    {
      "id": "731c6f77-9462-4c87-8123-f0585e6b0f39",
      "cell_type": "code",
      "source": "df1[\"score1\"]",
      "metadata": {
        "trusted": true
      },
      "outputs": [
        {
          "execution_count": 19,
          "output_type": "execute_result",
          "data": {
            "text/plain": "A    0.160613\nB    0.247636\nC    0.980510\nD    0.406258\nE    0.091446\nF    0.563465\nG    0.165896\nH    0.504608\nName: score1, dtype: float64"
          },
          "metadata": {}
        }
      ],
      "execution_count": 19
    },
    {
      "id": "4cadbb39-ba50-4193-b070-3c6f409b67c2",
      "cell_type": "code",
      "source": "df1[\"score5\"]",
      "metadata": {
        "trusted": true
      },
      "outputs": [
        {
          "execution_count": 20,
          "output_type": "execute_result",
          "data": {
            "text/plain": "A    0.598608\nB    0.951440\nC    0.386504\nD    0.317258\nE    0.833961\nF    0.555779\nG    0.323589\nH    0.984696\nName: score5, dtype: float64"
          },
          "metadata": {}
        }
      ],
      "execution_count": 20
    },
    {
      "id": "0398c95d-3300-45eb-a139-317fc25178be",
      "cell_type": "code",
      "source": "df1[[\"score2\",\"score3\",\"score4\"]]",
      "metadata": {
        "trusted": true
      },
      "outputs": [
        {
          "execution_count": 23,
          "output_type": "execute_result",
          "data": {
            "text/plain": "     score2    score3    score4\nA  0.045767  0.359725  0.894752\nB  0.014169  0.202549  0.473127\nC  0.492367  0.753955  0.983951\nD  0.855190  0.379893  0.789418\nE  0.770847  0.822870  0.884048\nF  0.338406  0.449771  0.957821\nG  0.185063  0.558307  0.996052\nH  0.027239  0.342787  0.129840",
            "text/html": "<div>\n<style scoped>\n    .dataframe tbody tr th:only-of-type {\n        vertical-align: middle;\n    }\n\n    .dataframe tbody tr th {\n        vertical-align: top;\n    }\n\n    .dataframe thead th {\n        text-align: right;\n    }\n</style>\n<table border=\"1\" class=\"dataframe\">\n  <thead>\n    <tr style=\"text-align: right;\">\n      <th></th>\n      <th>score2</th>\n      <th>score3</th>\n      <th>score4</th>\n    </tr>\n  </thead>\n  <tbody>\n    <tr>\n      <th>A</th>\n      <td>0.045767</td>\n      <td>0.359725</td>\n      <td>0.894752</td>\n    </tr>\n    <tr>\n      <th>B</th>\n      <td>0.014169</td>\n      <td>0.202549</td>\n      <td>0.473127</td>\n    </tr>\n    <tr>\n      <th>C</th>\n      <td>0.492367</td>\n      <td>0.753955</td>\n      <td>0.983951</td>\n    </tr>\n    <tr>\n      <th>D</th>\n      <td>0.855190</td>\n      <td>0.379893</td>\n      <td>0.789418</td>\n    </tr>\n    <tr>\n      <th>E</th>\n      <td>0.770847</td>\n      <td>0.822870</td>\n      <td>0.884048</td>\n    </tr>\n    <tr>\n      <th>F</th>\n      <td>0.338406</td>\n      <td>0.449771</td>\n      <td>0.957821</td>\n    </tr>\n    <tr>\n      <th>G</th>\n      <td>0.185063</td>\n      <td>0.558307</td>\n      <td>0.996052</td>\n    </tr>\n    <tr>\n      <th>H</th>\n      <td>0.027239</td>\n      <td>0.342787</td>\n      <td>0.129840</td>\n    </tr>\n  </tbody>\n</table>\n</div>"
          },
          "metadata": {}
        }
      ],
      "execution_count": 23
    },
    {
      "id": "e93a31e5-d030-47ef-ada7-743ca6dfa0c3",
      "cell_type": "code",
      "source": "df1['score6']=df1['score2']+df1['score3']\ndf1",
      "metadata": {
        "trusted": true
      },
      "outputs": [
        {
          "execution_count": 25,
          "output_type": "execute_result",
          "data": {
            "text/plain": "     score1    score2    score3    score4    score5    score6\nA  0.160613  0.045767  0.359725  0.894752  0.598608  0.405492\nB  0.247636  0.014169  0.202549  0.473127  0.951440  0.216718\nC  0.980510  0.492367  0.753955  0.983951  0.386504  1.246322\nD  0.406258  0.855190  0.379893  0.789418  0.317258  1.235083\nE  0.091446  0.770847  0.822870  0.884048  0.833961  1.593717\nF  0.563465  0.338406  0.449771  0.957821  0.555779  0.788177\nG  0.165896  0.185063  0.558307  0.996052  0.323589  0.743370\nH  0.504608  0.027239  0.342787  0.129840  0.984696  0.370026",
            "text/html": "<div>\n<style scoped>\n    .dataframe tbody tr th:only-of-type {\n        vertical-align: middle;\n    }\n\n    .dataframe tbody tr th {\n        vertical-align: top;\n    }\n\n    .dataframe thead th {\n        text-align: right;\n    }\n</style>\n<table border=\"1\" class=\"dataframe\">\n  <thead>\n    <tr style=\"text-align: right;\">\n      <th></th>\n      <th>score1</th>\n      <th>score2</th>\n      <th>score3</th>\n      <th>score4</th>\n      <th>score5</th>\n      <th>score6</th>\n    </tr>\n  </thead>\n  <tbody>\n    <tr>\n      <th>A</th>\n      <td>0.160613</td>\n      <td>0.045767</td>\n      <td>0.359725</td>\n      <td>0.894752</td>\n      <td>0.598608</td>\n      <td>0.405492</td>\n    </tr>\n    <tr>\n      <th>B</th>\n      <td>0.247636</td>\n      <td>0.014169</td>\n      <td>0.202549</td>\n      <td>0.473127</td>\n      <td>0.951440</td>\n      <td>0.216718</td>\n    </tr>\n    <tr>\n      <th>C</th>\n      <td>0.980510</td>\n      <td>0.492367</td>\n      <td>0.753955</td>\n      <td>0.983951</td>\n      <td>0.386504</td>\n      <td>1.246322</td>\n    </tr>\n    <tr>\n      <th>D</th>\n      <td>0.406258</td>\n      <td>0.855190</td>\n      <td>0.379893</td>\n      <td>0.789418</td>\n      <td>0.317258</td>\n      <td>1.235083</td>\n    </tr>\n    <tr>\n      <th>E</th>\n      <td>0.091446</td>\n      <td>0.770847</td>\n      <td>0.822870</td>\n      <td>0.884048</td>\n      <td>0.833961</td>\n      <td>1.593717</td>\n    </tr>\n    <tr>\n      <th>F</th>\n      <td>0.563465</td>\n      <td>0.338406</td>\n      <td>0.449771</td>\n      <td>0.957821</td>\n      <td>0.555779</td>\n      <td>0.788177</td>\n    </tr>\n    <tr>\n      <th>G</th>\n      <td>0.165896</td>\n      <td>0.185063</td>\n      <td>0.558307</td>\n      <td>0.996052</td>\n      <td>0.323589</td>\n      <td>0.743370</td>\n    </tr>\n    <tr>\n      <th>H</th>\n      <td>0.504608</td>\n      <td>0.027239</td>\n      <td>0.342787</td>\n      <td>0.129840</td>\n      <td>0.984696</td>\n      <td>0.370026</td>\n    </tr>\n  </tbody>\n</table>\n</div>"
          },
          "metadata": {}
        }
      ],
      "execution_count": 25
    },
    {
      "id": "b3ef9a42-275c-4686-a07b-01b5152b9ce6",
      "cell_type": "code",
      "source": "df2={'ID':['101','102','103','107','176'],'Name':['john','mercy','akash','kavin','lally'],'profit':[20,30,45,56,78]}\ndf=pd.DataFrame(df2)\ndf",
      "metadata": {
        "trusted": true
      },
      "outputs": [
        {
          "execution_count": 26,
          "output_type": "execute_result",
          "data": {
            "text/plain": "    ID   Name  profit\n0  101   john      20\n1  102  mercy      30\n2  103  akash      45\n3  107  kavin      56\n4  176  lally      78",
            "text/html": "<div>\n<style scoped>\n    .dataframe tbody tr th:only-of-type {\n        vertical-align: middle;\n    }\n\n    .dataframe tbody tr th {\n        vertical-align: top;\n    }\n\n    .dataframe thead th {\n        text-align: right;\n    }\n</style>\n<table border=\"1\" class=\"dataframe\">\n  <thead>\n    <tr style=\"text-align: right;\">\n      <th></th>\n      <th>ID</th>\n      <th>Name</th>\n      <th>profit</th>\n    </tr>\n  </thead>\n  <tbody>\n    <tr>\n      <th>0</th>\n      <td>101</td>\n      <td>john</td>\n      <td>20</td>\n    </tr>\n    <tr>\n      <th>1</th>\n      <td>102</td>\n      <td>mercy</td>\n      <td>30</td>\n    </tr>\n    <tr>\n      <th>2</th>\n      <td>103</td>\n      <td>akash</td>\n      <td>45</td>\n    </tr>\n    <tr>\n      <th>3</th>\n      <td>107</td>\n      <td>kavin</td>\n      <td>56</td>\n    </tr>\n    <tr>\n      <th>4</th>\n      <td>176</td>\n      <td>lally</td>\n      <td>78</td>\n    </tr>\n  </tbody>\n</table>\n</div>"
          },
          "metadata": {}
        }
      ],
      "execution_count": 26
    },
    {
      "id": "98f4dcf9-bab3-4a20-bed2-796973471b16",
      "cell_type": "code",
      "source": "df[[\"ID\",\"Name\"]]",
      "metadata": {
        "trusted": true
      },
      "outputs": [
        {
          "ename": "<class 'KeyError'>",
          "evalue": "\"['ID'] not in index\"",
          "traceback": [
            "\u001b[0;31m---------------------------------------------------------------------------\u001b[0m",
            "\u001b[0;31mKeyError\u001b[0m                                  Traceback (most recent call last)",
            "Cell \u001b[0;32mIn[31], line 1\u001b[0m\n\u001b[0;32m----> 1\u001b[0m \u001b[43mdf\u001b[49m\u001b[43m[\u001b[49m\u001b[43m[\u001b[49m\u001b[38;5;124;43m\"\u001b[39;49m\u001b[38;5;124;43mID\u001b[39;49m\u001b[38;5;124;43m\"\u001b[39;49m\u001b[43m,\u001b[49m\u001b[38;5;124;43m\"\u001b[39;49m\u001b[38;5;124;43mName\u001b[39;49m\u001b[38;5;124;43m\"\u001b[39;49m\u001b[43m]\u001b[49m\u001b[43m]\u001b[49m\n",
            "File \u001b[0;32m/lib/python3.11/site-packages/pandas/core/frame.py:3813\u001b[0m, in \u001b[0;36mDataFrame.__getitem__\u001b[0;34m(self, key)\u001b[0m\n\u001b[1;32m   3811\u001b[0m     \u001b[38;5;28;01mif\u001b[39;00m is_iterator(key):\n\u001b[1;32m   3812\u001b[0m         key \u001b[38;5;241m=\u001b[39m \u001b[38;5;28mlist\u001b[39m(key)\n\u001b[0;32m-> 3813\u001b[0m     indexer \u001b[38;5;241m=\u001b[39m \u001b[38;5;28;43mself\u001b[39;49m\u001b[38;5;241;43m.\u001b[39;49m\u001b[43mcolumns\u001b[49m\u001b[38;5;241;43m.\u001b[39;49m\u001b[43m_get_indexer_strict\u001b[49m\u001b[43m(\u001b[49m\u001b[43mkey\u001b[49m\u001b[43m,\u001b[49m\u001b[43m \u001b[49m\u001b[38;5;124;43m\"\u001b[39;49m\u001b[38;5;124;43mcolumns\u001b[39;49m\u001b[38;5;124;43m\"\u001b[39;49m\u001b[43m)\u001b[49m[\u001b[38;5;241m1\u001b[39m]\n\u001b[1;32m   3815\u001b[0m \u001b[38;5;66;03m# take() does not accept boolean indexers\u001b[39;00m\n\u001b[1;32m   3816\u001b[0m \u001b[38;5;28;01mif\u001b[39;00m \u001b[38;5;28mgetattr\u001b[39m(indexer, \u001b[38;5;124m\"\u001b[39m\u001b[38;5;124mdtype\u001b[39m\u001b[38;5;124m\"\u001b[39m, \u001b[38;5;28;01mNone\u001b[39;00m) \u001b[38;5;241m==\u001b[39m \u001b[38;5;28mbool\u001b[39m:\n",
            "File \u001b[0;32m/lib/python3.11/site-packages/pandas/core/indexes/base.py:6070\u001b[0m, in \u001b[0;36mIndex._get_indexer_strict\u001b[0;34m(self, key, axis_name)\u001b[0m\n\u001b[1;32m   6067\u001b[0m \u001b[38;5;28;01melse\u001b[39;00m:\n\u001b[1;32m   6068\u001b[0m     keyarr, indexer, new_indexer \u001b[38;5;241m=\u001b[39m \u001b[38;5;28mself\u001b[39m\u001b[38;5;241m.\u001b[39m_reindex_non_unique(keyarr)\n\u001b[0;32m-> 6070\u001b[0m \u001b[38;5;28;43mself\u001b[39;49m\u001b[38;5;241;43m.\u001b[39;49m\u001b[43m_raise_if_missing\u001b[49m\u001b[43m(\u001b[49m\u001b[43mkeyarr\u001b[49m\u001b[43m,\u001b[49m\u001b[43m \u001b[49m\u001b[43mindexer\u001b[49m\u001b[43m,\u001b[49m\u001b[43m \u001b[49m\u001b[43maxis_name\u001b[49m\u001b[43m)\u001b[49m\n\u001b[1;32m   6072\u001b[0m keyarr \u001b[38;5;241m=\u001b[39m \u001b[38;5;28mself\u001b[39m\u001b[38;5;241m.\u001b[39mtake(indexer)\n\u001b[1;32m   6073\u001b[0m \u001b[38;5;28;01mif\u001b[39;00m \u001b[38;5;28misinstance\u001b[39m(key, Index):\n\u001b[1;32m   6074\u001b[0m     \u001b[38;5;66;03m# GH 42790 - Preserve name from an Index\u001b[39;00m\n",
            "File \u001b[0;32m/lib/python3.11/site-packages/pandas/core/indexes/base.py:6133\u001b[0m, in \u001b[0;36mIndex._raise_if_missing\u001b[0;34m(self, key, indexer, axis_name)\u001b[0m\n\u001b[1;32m   6130\u001b[0m     \u001b[38;5;28;01mraise\u001b[39;00m \u001b[38;5;167;01mKeyError\u001b[39;00m(\u001b[38;5;124mf\u001b[39m\u001b[38;5;124m\"\u001b[39m\u001b[38;5;124mNone of [\u001b[39m\u001b[38;5;132;01m{\u001b[39;00mkey\u001b[38;5;132;01m}\u001b[39;00m\u001b[38;5;124m] are in the [\u001b[39m\u001b[38;5;132;01m{\u001b[39;00maxis_name\u001b[38;5;132;01m}\u001b[39;00m\u001b[38;5;124m]\u001b[39m\u001b[38;5;124m\"\u001b[39m)\n\u001b[1;32m   6132\u001b[0m not_found \u001b[38;5;241m=\u001b[39m \u001b[38;5;28mlist\u001b[39m(ensure_index(key)[missing_mask\u001b[38;5;241m.\u001b[39mnonzero()[\u001b[38;5;241m0\u001b[39m]]\u001b[38;5;241m.\u001b[39munique())\n\u001b[0;32m-> 6133\u001b[0m \u001b[38;5;28;01mraise\u001b[39;00m \u001b[38;5;167;01mKeyError\u001b[39;00m(\u001b[38;5;124mf\u001b[39m\u001b[38;5;124m\"\u001b[39m\u001b[38;5;132;01m{\u001b[39;00mnot_found\u001b[38;5;132;01m}\u001b[39;00m\u001b[38;5;124m not in index\u001b[39m\u001b[38;5;124m\"\u001b[39m)\n",
            "\u001b[0;31mKeyError\u001b[0m: \"['ID'] not in index\""
          ],
          "output_type": "error"
        }
      ],
      "execution_count": 31
    },
    {
      "id": "71dc3967-39cf-4c15-8d09-ae167b2dfb77",
      "cell_type": "code",
      "source": "df[\"ID\"]",
      "metadata": {
        "trusted": true
      },
      "outputs": [
        {
          "execution_count": 27,
          "output_type": "execute_result",
          "data": {
            "text/plain": "0    101\n1    102\n2    103\n3    107\n4    176\nName: ID, dtype: object"
          },
          "metadata": {}
        }
      ],
      "execution_count": 27
    },
    {
      "id": "4e7e7822-de57-4719-b029-88c84c9ac580",
      "cell_type": "code",
      "source": "df=df.drop(\"ID\",axis=1)",
      "metadata": {
        "trusted": true
      },
      "outputs": [],
      "execution_count": 29
    },
    {
      "id": "00e589b2-9672-4b7e-92e4-65b08ec8c094",
      "cell_type": "code",
      "source": "df[[\"ID\",\"Name\"]]",
      "metadata": {
        "trusted": true
      },
      "outputs": [
        {
          "ename": "<class 'KeyError'>",
          "evalue": "\"['ID'] not in index\"",
          "traceback": [
            "\u001b[0;31m---------------------------------------------------------------------------\u001b[0m",
            "\u001b[0;31mKeyError\u001b[0m                                  Traceback (most recent call last)",
            "Cell \u001b[0;32mIn[30], line 1\u001b[0m\n\u001b[0;32m----> 1\u001b[0m \u001b[43mdf\u001b[49m\u001b[43m[\u001b[49m\u001b[43m[\u001b[49m\u001b[38;5;124;43m\"\u001b[39;49m\u001b[38;5;124;43mID\u001b[39;49m\u001b[38;5;124;43m\"\u001b[39;49m\u001b[43m,\u001b[49m\u001b[38;5;124;43m\"\u001b[39;49m\u001b[38;5;124;43mName\u001b[39;49m\u001b[38;5;124;43m\"\u001b[39;49m\u001b[43m]\u001b[49m\u001b[43m]\u001b[49m\n",
            "File \u001b[0;32m/lib/python3.11/site-packages/pandas/core/frame.py:3813\u001b[0m, in \u001b[0;36mDataFrame.__getitem__\u001b[0;34m(self, key)\u001b[0m\n\u001b[1;32m   3811\u001b[0m     \u001b[38;5;28;01mif\u001b[39;00m is_iterator(key):\n\u001b[1;32m   3812\u001b[0m         key \u001b[38;5;241m=\u001b[39m \u001b[38;5;28mlist\u001b[39m(key)\n\u001b[0;32m-> 3813\u001b[0m     indexer \u001b[38;5;241m=\u001b[39m \u001b[38;5;28;43mself\u001b[39;49m\u001b[38;5;241;43m.\u001b[39;49m\u001b[43mcolumns\u001b[49m\u001b[38;5;241;43m.\u001b[39;49m\u001b[43m_get_indexer_strict\u001b[49m\u001b[43m(\u001b[49m\u001b[43mkey\u001b[49m\u001b[43m,\u001b[49m\u001b[43m \u001b[49m\u001b[38;5;124;43m\"\u001b[39;49m\u001b[38;5;124;43mcolumns\u001b[39;49m\u001b[38;5;124;43m\"\u001b[39;49m\u001b[43m)\u001b[49m[\u001b[38;5;241m1\u001b[39m]\n\u001b[1;32m   3815\u001b[0m \u001b[38;5;66;03m# take() does not accept boolean indexers\u001b[39;00m\n\u001b[1;32m   3816\u001b[0m \u001b[38;5;28;01mif\u001b[39;00m \u001b[38;5;28mgetattr\u001b[39m(indexer, \u001b[38;5;124m\"\u001b[39m\u001b[38;5;124mdtype\u001b[39m\u001b[38;5;124m\"\u001b[39m, \u001b[38;5;28;01mNone\u001b[39;00m) \u001b[38;5;241m==\u001b[39m \u001b[38;5;28mbool\u001b[39m:\n",
            "File \u001b[0;32m/lib/python3.11/site-packages/pandas/core/indexes/base.py:6070\u001b[0m, in \u001b[0;36mIndex._get_indexer_strict\u001b[0;34m(self, key, axis_name)\u001b[0m\n\u001b[1;32m   6067\u001b[0m \u001b[38;5;28;01melse\u001b[39;00m:\n\u001b[1;32m   6068\u001b[0m     keyarr, indexer, new_indexer \u001b[38;5;241m=\u001b[39m \u001b[38;5;28mself\u001b[39m\u001b[38;5;241m.\u001b[39m_reindex_non_unique(keyarr)\n\u001b[0;32m-> 6070\u001b[0m \u001b[38;5;28;43mself\u001b[39;49m\u001b[38;5;241;43m.\u001b[39;49m\u001b[43m_raise_if_missing\u001b[49m\u001b[43m(\u001b[49m\u001b[43mkeyarr\u001b[49m\u001b[43m,\u001b[49m\u001b[43m \u001b[49m\u001b[43mindexer\u001b[49m\u001b[43m,\u001b[49m\u001b[43m \u001b[49m\u001b[43maxis_name\u001b[49m\u001b[43m)\u001b[49m\n\u001b[1;32m   6072\u001b[0m keyarr \u001b[38;5;241m=\u001b[39m \u001b[38;5;28mself\u001b[39m\u001b[38;5;241m.\u001b[39mtake(indexer)\n\u001b[1;32m   6073\u001b[0m \u001b[38;5;28;01mif\u001b[39;00m \u001b[38;5;28misinstance\u001b[39m(key, Index):\n\u001b[1;32m   6074\u001b[0m     \u001b[38;5;66;03m# GH 42790 - Preserve name from an Index\u001b[39;00m\n",
            "File \u001b[0;32m/lib/python3.11/site-packages/pandas/core/indexes/base.py:6133\u001b[0m, in \u001b[0;36mIndex._raise_if_missing\u001b[0;34m(self, key, indexer, axis_name)\u001b[0m\n\u001b[1;32m   6130\u001b[0m     \u001b[38;5;28;01mraise\u001b[39;00m \u001b[38;5;167;01mKeyError\u001b[39;00m(\u001b[38;5;124mf\u001b[39m\u001b[38;5;124m\"\u001b[39m\u001b[38;5;124mNone of [\u001b[39m\u001b[38;5;132;01m{\u001b[39;00mkey\u001b[38;5;132;01m}\u001b[39;00m\u001b[38;5;124m] are in the [\u001b[39m\u001b[38;5;132;01m{\u001b[39;00maxis_name\u001b[38;5;132;01m}\u001b[39;00m\u001b[38;5;124m]\u001b[39m\u001b[38;5;124m\"\u001b[39m)\n\u001b[1;32m   6132\u001b[0m not_found \u001b[38;5;241m=\u001b[39m \u001b[38;5;28mlist\u001b[39m(ensure_index(key)[missing_mask\u001b[38;5;241m.\u001b[39mnonzero()[\u001b[38;5;241m0\u001b[39m]]\u001b[38;5;241m.\u001b[39munique())\n\u001b[0;32m-> 6133\u001b[0m \u001b[38;5;28;01mraise\u001b[39;00m \u001b[38;5;167;01mKeyError\u001b[39;00m(\u001b[38;5;124mf\u001b[39m\u001b[38;5;124m\"\u001b[39m\u001b[38;5;132;01m{\u001b[39;00mnot_found\u001b[38;5;132;01m}\u001b[39;00m\u001b[38;5;124m not in index\u001b[39m\u001b[38;5;124m\"\u001b[39m)\n",
            "\u001b[0;31mKeyError\u001b[0m: \"['ID'] not in index\""
          ],
          "output_type": "error"
        }
      ],
      "execution_count": 30
    },
    {
      "id": "17ffeb5a-499e-440a-99f7-840229a239ee",
      "cell_type": "code",
      "source": "",
      "metadata": {
        "trusted": true
      },
      "outputs": [],
      "execution_count": null
    }
  ]
}