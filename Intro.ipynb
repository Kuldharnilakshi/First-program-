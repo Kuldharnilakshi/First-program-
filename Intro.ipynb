{
  "metadata": {
    "kernelspec": {
      "name": "python",
      "display_name": "Python (Pyodide)",
      "language": "python"
    },
    "language_info": {
      "codemirror_mode": {
        "name": "python",
        "version": 3
      },
      "file_extension": ".py",
      "mimetype": "text/x-python",
      "name": "python",
      "nbconvert_exporter": "python",
      "pygments_lexer": "ipython3",
      "version": "3.8"
    }
  },
  "nbformat_minor": 5,
  "nbformat": 4,
  "cells": [
    {
      "id": "e5912899-60a4-49c1-b19a-ffedeaabe38c",
      "cell_type": "code",
      "source": "print(\"Nilakshi\");",
      "metadata": {
        "trusted": true
      },
      "outputs": [
        {
          "name": "stdout",
          "text": "Nilakshi\n",
          "output_type": "stream"
        }
      ],
      "execution_count": 1
    },
    {
      "id": "91997c53-a4de-44c7-aff3-f6ae2e5a7c67",
      "cell_type": "code",
      "source": "",
      "metadata": {
        "trusted": true
      },
      "outputs": [],
      "execution_count": null
    }
  ]
}